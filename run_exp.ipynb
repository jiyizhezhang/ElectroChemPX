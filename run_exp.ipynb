{
 "cells": [
  {
   "metadata": {},
   "cell_type": "markdown",
   "source": "This is an example how you run the code manually with your experimental data",
   "id": "7db5ea9ea2fabf43"
  },
  {
   "metadata": {},
   "cell_type": "markdown",
   "source": "Import the necessary libraries and modules",
   "id": "4a123524ef06b840"
  },
  {
   "cell_type": "code",
   "id": "initial_id",
   "metadata": {
    "collapsed": true,
    "ExecuteTime": {
     "end_time": "2025-06-17T08:20:30.271668Z",
     "start_time": "2025-06-17T08:20:28.409852Z"
    }
   },
   "source": [
    "from mobo.mobo import *\n",
    "from mobo.algorithms import PDBO\n",
    "import dill\n",
    "import os\n",
    "os.environ['OMP_NUM_THREADS'] = '1'  # speed up\n",
    "import numpy as np\n",
    "import pandas as pd\n",
    "import matplotlib.pyplot as plt\n",
    "import warnings\n",
    "warnings.filterwarnings(\"ignore\", message=\"delta_grad == 0.0. Check if the approximated function is linear.\")\n",
    "from arguments import get_args\n",
    "from baselines.vis_data_export import DataExport\n",
    "from problems.common import build_problem"
   ],
   "outputs": [],
   "execution_count": 1
  },
  {
   "metadata": {},
   "cell_type": "markdown",
   "source": "1. First, set up the arguments and problem",
   "id": "ccd2683f44335db4"
  },
  {
   "metadata": {
    "ExecuteTime": {
     "end_time": "2025-06-17T08:22:46.170729Z",
     "start_time": "2025-06-17T08:22:46.122499Z"
    }
   },
   "cell_type": "code",
   "source": [
    "args, framework_args = get_args()\n",
    "framework_args= {'surrogate': {'surrogate': 'gp', 'n_spectral_pts': 100, 'nu': 5, 'mean_sample': False},\n",
    "                 'acquisition': {'acquisition': 'EI'},\n",
    "                 'solver': {'solver': 'nsga2', 'pop_size': 100, 'n_gen': 10, 'pop_init_method': 'nds', 'n_process': 8, 'batch_size': 1},\n",
    "                 'selection': {'selection': 'dpp', 'batch_size': 1}}\n",
    "\n",
    "args.algo = \"PDBO\"\n",
    "args.problem = \"Reaction_conti\"\n",
    "args.n_var = 5  # number of var\n",
    "args.n_obj = 2  # number of obj\n",
    "args.n_process = 1  # number of evalation parallel processes\n",
    "args.n_init_sample = 10  # initial samples\n",
    "args.ref_point = None  # ref points\n",
    "args.batch_size = 1  # batch size\n",
    "\n",
    "problem, true_pfront, X_init, Y_init = build_problem(args.problem, args.n_var, args.n_obj, args.n_init_sample, args.n_process)\n",
    "args.n_var, args.n_obj = problem.n_var, problem.n_obj"
   ],
   "id": "c86fc6a864ab015c",
   "outputs": [],
   "execution_count": 3
  },
  {
   "metadata": {},
   "cell_type": "markdown",
   "source": "2. Import initial data from excel, an example csv file can be found in folder 'iteration'",
   "id": "aea8eda191beec04"
  },
  {
   "metadata": {
    "ExecuteTime": {
     "end_time": "2025-06-17T08:22:50.582161Z",
     "start_time": "2025-06-17T08:22:50.570717Z"
    }
   },
   "cell_type": "code",
   "source": [
    "# Start from input data from csv\n",
    "num = 10\n",
    "data = pd.read_csv(\"iteration/InitialSet_conti.csv\")\n",
    "X_init = data.iloc[0:num,0:args.n_var].values\n",
    "Y_init = data.iloc[0:num,args.n_var:(args.n_var+args.n_obj)].values"
   ],
   "id": "20418d21fce9d4f4",
   "outputs": [],
   "execution_count": 4
  },
  {
   "metadata": {},
   "cell_type": "markdown",
   "source": "You can check the initial data",
   "id": "11147d509dc6cf78"
  },
  {
   "metadata": {
    "ExecuteTime": {
     "end_time": "2025-06-17T08:23:19.104791Z",
     "start_time": "2025-06-17T08:23:18.921860Z"
    }
   },
   "cell_type": "code",
   "source": [
    "print(\"X_init\", X_init)\n",
    "print(\"Y_init\",Y_init)\n",
    "plt.scatter(-Y_init[:,0], Y_init[:,1])\n",
    "plt.show()\n"
   ],
   "id": "74f6eb20bb2329a1",
   "outputs": [
    {
     "name": "stdout",
     "output_type": "stream",
     "text": [
      "X_init [[8.44520075e-01 2.26332395e+00 2.55197481e-01 7.12185403e+01]\n",
      " [1.44913459e+00 2.71843197e+00 4.85591807e-01 9.48409999e+01]\n",
      " [1.01619638e+00 1.64469755e+00 1.70636314e-01 1.07198966e+02]\n",
      " [7.23261678e-01 1.87508849e+00 3.11387435e-01 7.72822939e+01]\n",
      " [1.69403401e+00 3.10632765e+00 1.08268766e-01 4.36657619e+01]\n",
      " [1.80497654e+00 3.87536586e+00 2.85151516e-01 3.82674982e+01]\n",
      " [5.33298976e-01 3.45766572e+00 3.46624514e-01 9.26753748e+01]\n",
      " [1.85024633e+00 1.34829292e+00 3.80972262e-01 5.46459627e+01]\n",
      " [1.16213525e+00 4.80618904e+00 4.20917324e-01 5.94667782e+01]\n",
      " [1.33998938e+00 4.51180583e+00 1.83229651e-01 1.19870620e+02]]\n",
      "Y_init [[ 55.04542691   0.95580418]\n",
      " [ 62.8819688    1.10981177]\n",
      " [ 32.8294735    0.54659745]\n",
      " [ 77.84510584   0.78333779]\n",
      " [  8.5387102    2.21638145]\n",
      " [ 31.22203427   1.51331816]\n",
      " [133.57321153   1.23991086]\n",
      " [ 35.51066379   0.60355488]\n",
      " [ 74.4327337    1.81162628]\n",
      " [ 23.43472184   2.22179851]]\n"
     ]
    },
    {
     "data": {
      "text/plain": [
       "<Figure size 640x480 with 1 Axes>"
      ],
      "image/png": "[encoded data removed]"
     },
     "metadata": {},
     "output_type": "display_data"
    }
   ],
   "execution_count": 5
  },
  {
   "metadata": {},
   "cell_type": "markdown",
   "source": "3. Then, initialise the algorithm with the problem and initial data, please note this only needs to be initialised once. For later iterations, you can directly load the information from the pickle file.",
   "id": "aa40ab7e8142435b"
  },
  {
   "metadata": {
    "ExecuteTime": {
     "end_time": "2025-06-17T08:24:31.626201Z",
     "start_time": "2025-06-17T08:24:31.419406Z"
    }
   },
   "cell_type": "code",
   "source": [
    "\n",
    "obj = PDBO(problem, args.n_iter, args.ref_point, framework_args)\n",
    "\n",
    "bounds = np.array([problem.xl, problem.xu])\n",
    "obj.transformation = StandardTransform(bounds)\n",
    "\n",
    "framework_args['surrogate']['n_var'] = obj.n_var  # for surrogate fitting\n",
    "framework_args['surrogate']['n_obj'] = obj.n_obj  # for surrogate fitting\n",
    "framework_args['solver']['n_obj'] = obj.n_obj\n",
    "framework = init_from_config(obj.config, framework_args)\n",
    "\n",
    "obj.surrogate_model = framework['surrogate']\n",
    "obj.acquisition = framework['acquisition']\n",
    "obj.solver = framework['solver']  # multi-objective solver for finding the paretofront\n",
    "obj.selection = framework['selection']\n",
    "\n",
    "obj.X = None\n",
    "obj.Y = None\n",
    "obj.sample_num = 0\n",
    "obj.status = {\n",
    "    'pset': None,\n",
    "    'pfront': None,\n",
    "    'hv': None,\n",
    "    'ref_point': obj.ref_point,\n",
    "}\n",
    "\n",
    "# other component-specific information that needs to be stored or exported\n",
    "obj.info = None\n",
    "\n",
    "if obj.ref_point is None:\n",
    "    obj.ref_point = np.max(Y_init, axis=0)\n",
    "obj.selection.set_ref_point(obj.ref_point)\n",
    "obj.acquisition.set_ref_point(obj.ref_point)\n",
    "obj._update_status(X_init, Y_init)\n"
   ],
   "id": "eaa32d9641913e53",
   "outputs": [],
   "execution_count": 6
  },
  {
   "metadata": {},
   "cell_type": "markdown",
   "source": "4. Then run the code and get the next experiment condition",
   "id": "e5f8d30abf0815a7"
  },
  {
   "metadata": {
    "ExecuteTime": {
     "end_time": "2025-06-17T08:25:28.162374Z",
     "start_time": "2025-06-17T08:25:21.292661Z"
    }
   },
   "cell_type": "code",
   "source": [
    "\n",
    "obj.ref_point = [-1.19200271e-01, 2.07504040e+02]  # Set your own reference point if needed\n",
    "obj.transformation.fit(obj.X, obj.Y)\n",
    "X, Y = obj.transformation.do(obj.X, obj.Y)\n",
    "#\n",
    "# fit gp model (already passed [GaussianProcess object] to obj.)\n",
    "obj.surrogate_model.fit(X, Y)\n",
    "\n",
    "# set acquisition function (already passed [AcquisitionAdaptiveHedge object] to obj.)\n",
    "# obj.acquisition --> methods: set_ref_point, set_args, fit, evaluate, final_batch\n",
    "obj.acquisition.set_args(obj.selection.batch_size, obj.real_problem, obj.solver,\n",
    "                          obj.surrogate_model, obj.transformation)\n",
    "\n",
    "obj.acquisition.fit(X, Y)\n",
    "res = obj.acquisition.final_batch()\n",
    "\n",
    "X_next = np.asarray([np.asarray(q) for q in res])\n",
    "print(\"X_next\", X_next.tolist())"
   ],
   "id": "ea1a8ce2e943ab72",
   "outputs": [
    {
     "name": "stdout",
     "output_type": "stream",
     "text": [
      "Probability:  [0.25, 0.25, 0.25, 0.25]\n",
      "Selected acquisition:  UCB\n",
      "optimization_results (alphas, best y):  [8.95174273e-05 9.99910483e-01] -26.754196116748947\n",
      "X_next [[1.9996412853864973, 1.0008597665163332, 0.10026704638486729, 105.95969208220747]]\n"
     ]
    }
   ],
   "execution_count": 7
  },
  {
   "metadata": {},
   "cell_type": "markdown",
   "source": "5. Next, you will use the suggested conditions to conduct experiments and get new results. Update your data into X_next and Y_next, and then update the status of the algorithm. Please note that the default setting is both minimisation, so the first value of Y_next should be negative if you want to maximise it. Save the current condition of the algorithm into a pickle file, so that you can load it later for the next iteration.",
   "id": "16582f6620f7f79"
  },
  {
   "metadata": {
    "ExecuteTime": {
     "end_time": "2025-06-17T08:29:24.343981Z",
     "start_time": "2025-06-17T08:29:24.225640Z"
    }
   },
   "cell_type": "code",
   "source": [
    "X_next = np.array([[1.9996412853864973, 1.0008597665163332, 0.10026704638486729, 105.95969208220747]])\n",
    "Y_next = np.array([[-20, 1.5]])  ### first value is negative!!!\n",
    "obj._update_status(X_next, Y_next)\n",
    "\n",
    "exporter = DataExport(obj, obj.X, obj.Y, args)\n",
    "exporter.update(X_next, Y_next)\n",
    "exporter.write_csvs()\n",
    "#\n",
    "with open(\"iteration/iteration_1.pkl\", \"wb\") as d:\n",
    "    dill.dump(obj, d)"
   ],
   "id": "573a6bb9ed439f06",
   "outputs": [],
   "execution_count": 8
  },
  {
   "metadata": {},
   "cell_type": "markdown",
   "source": "6. For the next iteration, simply load the pickle file and continue the process and repeat the steps 4,5 above",
   "id": "14749d660631f4d1"
  },
  {
   "metadata": {},
   "cell_type": "code",
   "outputs": [],
   "execution_count": null,
   "source": [
    "with open(\"iteration/iteration_1.pkl\", \"rb\") as d:\n",
    "    obj = dill.load(d)"
   ],
   "id": "20e1a434469a21cc"
  }
 ],
 "metadata": {
  "kernelspec": {
   "display_name": "Python 3",
   "language": "python",
   "name": "python3"
  },
  "language_info": {
   "codemirror_mode": {
    "name": "ipython",
    "version": 2
   },
   "file_extension": ".py",
   "mimetype": "text/x-python",
   "name": "python",
   "nbconvert_exporter": "python",
   "pygments_lexer": "ipython2",
   "version": "2.7.6"
  }
 },
 "nbformat": 4,
 "nbformat_minor": 5
}
